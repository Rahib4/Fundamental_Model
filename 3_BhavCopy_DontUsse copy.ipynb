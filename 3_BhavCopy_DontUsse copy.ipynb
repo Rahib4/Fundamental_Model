{
 "cells": [
  {
   "cell_type": "code",
   "execution_count": null,
   "metadata": {},
   "outputs": [],
   "source": [
    "# At first I though I will download all the data from NSE site.. \n",
    "# but there are better APIs which will reduce the workload by a ton. Moving to that."
   ]
  },
  {
   "cell_type": "code",
   "execution_count": 1,
   "metadata": {},
   "outputs": [],
   "source": [
    "import pandas as pd\n",
    "import numpy as np\n",
    "import requests \n",
    "from pynse import *"
   ]
  },
  {
   "cell_type": "code",
   "execution_count": null,
   "metadata": {},
   "outputs": [],
   "source": [
    "# I will need three bhav copies. \n",
    "# 2 bhavcopies for Training - one for 2019 Jan to 2019 Jan\n",
    "\n",
    "# I can do one more thing.. I can read prev 5 years of data ( Annual & Quarterly)\n",
    "# Like 2010 to 2015 and then what was the return in 2016, \n",
    "# Likewise 2011 to 2016 and output in 2017, this way my rows will increase.\n",
    "\n",
    "# One more thing.. simply getting one simple number is not going to be good.. \n",
    "# I should use MoM returns (12 values) and then avg them.. \n",
    "# that way it will be a good indicator of year long performance.\n",
    "\n",
    "# Version 1: Train: Train the model for 2019 performance with data from 2010 to 2018\n",
    "#            Validation: Score the model on performance till 2021, Check if the order is relatively correct or not.\n",
    "\n",
    "# Version 2: Train: Train the model on 5 year back data for every 5 yr window till 2021.\n",
    "#            Validate the model against any random rows."
   ]
  },
  {
   "cell_type": "code",
   "execution_count": 33,
   "metadata": {},
   "outputs": [
    {
     "name": "stdout",
     "output_type": "stream",
     "text": [
      "[datetime.date(2010, 1, 1), datetime.date(2010, 1, 31)]\n",
      "today date 2010-01-01\n",
      "We need this date in this format 01, Jan 2010\n",
      "We need this date in this format 01-01-2010\n",
      "Year is - 2010\n",
      "Month is - Jan\n",
      "FILENAMEIS - 01JAN2010\n"
     ]
    }
   ],
   "source": [
    "import datetime\n",
    "from datetime import date\n",
    "import calendar\n",
    "\n",
    "#************************* sample Code *************************#\n",
    "#date  = datetime.datetime.now().date()\n",
    "#date  =  date(2011, 12, 5)\n",
    "\n",
    "# start_date  = date.replace(day = 1)\n",
    "# end_date  = date.replace(day = calendar.monthrange(date.year, date.month)[1])\n",
    "\n",
    "# print(start_date,end_date)\n",
    "#**************************************************************#\n",
    "\n",
    "# Created a function to get the list of all dates\n",
    "def getting_dates():\n",
    "    list_all_dates = []\n",
    "    list_month_date = []\n",
    "    for var_year in range(2010,2021):\n",
    "        for var_month in range(1,12):\n",
    "            #print(var_year,var_month)\n",
    "            mid_date  =  date(var_year, var_month, 15)\n",
    "            start_date = mid_date.replace(day = 1)\n",
    "            end_date  = mid_date.replace(day = calendar.monthrange(mid_date.year, mid_date.month)[1])\n",
    "            #print(start_date,end_date)\n",
    "            list_month_date = [start_date,end_date]\n",
    "            list_all_dates.append(list_month_date)\n",
    "    return list_all_dates\n",
    "            #return start_date,end_date\n",
    "\n",
    "all_dates = getting_dates()\n",
    "print(str(all_dates[0]))\n",
    "\n",
    "print('today date',str(all_dates[0][0]))\n",
    "#getting_dates()\n",
    "\n",
    "print(\"We need this date in this format {:%d, %b %Y}\".format(all_dates[0][0]))\n",
    "print(\"We need this date in this format {:%d-%m-%Y}\".format(all_dates[0][0]))\n",
    "print(\"Year is - {:%Y}\".format(all_dates[0][0]))\n",
    "print(\"Month is - {:%b}\".format(all_dates[0][0]))\n",
    "print(\"filenameis - {:%d%b%Y}\".format(all_dates[0][0]).upper())\n"
   ]
  },
  {
   "cell_type": "code",
   "execution_count": 34,
   "metadata": {},
   "outputs": [
    {
     "name": "stdout",
     "output_type": "stream",
     "text": [
      "https://www1.nseindia.com/content/historical/EQUITIES/2021/DEC/cm03DEC2021bhav.csv.zip\n",
      "https://www1.nseindia.com/content/historical/EQUITIES/2010/JAN/cm01JAN2010bhav.csv.zip\n"
     ]
    }
   ],
   "source": [
    "# Since we need 1s & 28th of every month data.. we need to automate the bhavcopy download\n",
    "\n",
    "#Here is the link for NSE\n",
    "actual_url = 'https://www1.nseindia.com/content/historical/EQUITIES/2021/DEC/cm03DEC2021bhav.csv.zip'\n",
    "print(actual_url)\n",
    "url = \"https://www1.nseindia.com/ArchieveSearch?h_filetype=eqbhav&date={:%d-%m-%Y}&section=EQ\".format(all_dates[0][0])\n",
    "url = \"https://www1.nseindia.com/content/historical/EQUITIES/{0}/{1}/cm{2}bhav.csv.zip\".format(\"{:%Y}\".format(all_dates[0][0]),\"{:%b}\".format(all_dates[0][0]).upper(),\"{:%d%b%Y}\".format(all_dates[0][0]).upper())\n",
    "\n",
    "print(url)\n",
    "\n",
    "# Now we can hit the URL but we need to download the zip file unzip it and download the actual bhavcopy"
   ]
  },
  {
   "cell_type": "code",
   "execution_count": null,
   "metadata": {},
   "outputs": [],
   "source": [
    "for i in range(7):\n",
    "    while True:\n",
    "        try:\n",
    "            a=requests.get('https://nseindia.com/content/historical/EQUITIES/'+y+'/'+dmonth[m]+'/cm'+d+dmonth[m]+y+'bhav.csv.zip')\n",
    "        except requests.ConnectionError:\n",
    "            print('No connection, retrying')\n",
    "        break"
   ]
  },
  {
   "cell_type": "code",
   "execution_count": 10,
   "metadata": {},
   "outputs": [
    {
     "name": "stdout",
     "output_type": "stream",
     "text": [
      "2021-12-16\n",
      "2023-12-31\n",
      "DatetimeIndex(['2021-12-31', '2022-01-31', '2022-02-28', '2022-03-31',\n",
      "               '2022-04-29', '2022-05-31', '2022-06-30', '2022-07-29',\n",
      "               '2022-08-31', '2022-09-30', '2022-10-31', '2022-11-30',\n",
      "               '2022-12-30', '2023-01-31', '2023-02-28', '2023-03-31',\n",
      "               '2023-04-28', '2023-05-31', '2023-06-30', '2023-07-31',\n",
      "               '2023-08-31', '2023-09-29', '2023-10-31', '2023-11-30',\n",
      "               '2023-12-29'],\n",
      "              dtype='datetime64[ns]', freq='BM')\n"
     ]
    }
   ],
   "source": []
  }
 ],
 "metadata": {
  "interpreter": {
   "hash": "1ef6bde4e68e78cc4ff7dfbfbc25dd9dc8887c0de823b729b48d9077ad416cbb"
  },
  "kernelspec": {
   "display_name": "Python 3.6.8 64-bit",
   "language": "python",
   "name": "python3"
  },
  "language_info": {
   "codemirror_mode": {
    "name": "ipython",
    "version": 3
   },
   "file_extension": ".py",
   "mimetype": "text/x-python",
   "name": "python",
   "nbconvert_exporter": "python",
   "pygments_lexer": "ipython3",
   "version": "3.6.8"
  },
  "orig_nbformat": 4
 },
 "nbformat": 4,
 "nbformat_minor": 2
}
